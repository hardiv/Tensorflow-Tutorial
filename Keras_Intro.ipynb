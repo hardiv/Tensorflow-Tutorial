{
  "cells": [
    {
      "cell_type": "markdown",
      "metadata": {
        "id": "view-in-github",
        "colab_type": "text"
      },
      "source": [
        "<a href=\"https://colab.research.google.com/github/hardiv/Tensorflow-Tutorial/blob/main/Keras_Intro.ipynb\" target=\"_parent\"><img src=\"https://colab.research.google.com/assets/colab-badge.svg\" alt=\"Open In Colab\"/></a>"
      ]
    },
    {
      "cell_type": "markdown",
      "metadata": {
        "id": "oCw-KIYZk-mF"
      },
      "source": [
        "# Keras Intro\n",
        "\n",
        "These notes will walk you through using Keras for Tensorflow 2"
      ]
    },
    {
      "cell_type": "markdown",
      "metadata": {
        "id": "ijtkpD7AlGRT"
      },
      "source": [
        "## What is Keras?\n",
        "\n",
        "Keras is a high-level, flexible API used in Tensorflow 2 for building, training and making inferences from Deep Learning Neural Network Models"
      ]
    },
    {
      "cell_type": "markdown",
      "metadata": {
        "id": "EGh0IgpplVwV"
      },
      "source": [
        "## Neural Networks - A Primer\n",
        "\n",
        "We're gonna have to talk about FFNs and CNNs"
      ]
    },
    {
      "cell_type": "markdown",
      "metadata": {
        "id": "HXBF8AMklY08"
      },
      "source": [
        "## Building a Sequential Model\n",
        "\n",
        "We'll use the Keras Sequential class to build simple models. Most NNs that we work with can be built using this, and it's an easy way to construct Deep Learning Networks\n"
      ]
    },
    {
      "cell_type": "markdown",
      "metadata": {
        "id": "NsZ17SFYlY08"
      },
      "source": [
        "### Importing the classes"
      ]
    },
    {
      "cell_type": "code",
      "execution_count": 4,
      "metadata": {
        "id": "jDJd7GZWlY09"
      },
      "outputs": [],
      "source": [
        "from tensorflow.keras.models import Sequential\n",
        "from tensorflow.keras.layers import Flatten, Dense"
      ]
    },
    {
      "cell_type": "markdown",
      "metadata": {
        "id": "Y483pshmlY0_"
      },
      "source": [
        "### Defining the model"
      ]
    },
    {
      "cell_type": "markdown",
      "source": [
        "We define each layer by it's type (Dense or Sparse), number of nodes, and activation function, which would be linear by default.\n",
        "\n",
        "Below is an example of possibly a model for a classification task with 10 classes."
      ],
      "metadata": {
        "id": "Y4618JlrmDpH"
      }
    },
    {
      "cell_type": "code",
      "execution_count": 5,
      "metadata": {
        "id": "y4I3PIVclY0_"
      },
      "outputs": [],
      "source": [
        "model = Sequential([\n",
        "    Dense(64, activation='relu'),   # Create a densely connected layer with 64 nodes\n",
        "    Dense(10, activation='softmax') # Create a densely connected layer with 10\n",
        "])"
      ]
    },
    {
      "cell_type": "markdown",
      "source": [
        "Alternatively, we can add layers individually to the model, like so:"
      ],
      "metadata": {
        "id": "nOhVv-HLmm5Z"
      }
    },
    {
      "cell_type": "code",
      "source": [
        "model = Sequential() # Create the network\n",
        "model.add(Dense(64, activation='relu'))    # Add a densely connected layer with 64 nodes\n",
        "model.add(Dense(10, activation='softmax')) # Add a densely connected layer with 10"
      ],
      "metadata": {
        "id": "QEoa4u7gmmXv"
      },
      "execution_count": null,
      "outputs": []
    },
    {
      "cell_type": "markdown",
      "source": [
        "Both ways of creating our model do the exact same thing, and both are equally ok to use."
      ],
      "metadata": {
        "id": "-BpHKLxgnAYU"
      }
    },
    {
      "cell_type": "markdown",
      "source": [
        "Here's the same model, but with a flattening layer at the start to control the shape of the input data"
      ],
      "metadata": {
        "id": "ihATq1RMnqD2"
      }
    },
    {
      "cell_type": "code",
      "source": [
        "model = Sequential([\n",
        "    Flatten(input_shape=(28, 28)), # Flattening the 28x28 2D tensor into one long 1D tensor of size 784\n",
        "    Dense(64, activation='relu'),   # Create a densely connected layer with 64 nodes\n",
        "    Dense(10, activation='softmax') # Create a densely connected layer with 10\n",
        "])"
      ],
      "metadata": {
        "id": "ozS7mbDKnLoM"
      },
      "execution_count": null,
      "outputs": []
    }
  ],
  "metadata": {
    "colab": {
      "collapsed_sections": [],
      "name": "Keras_Intro.ipynb",
      "provenance": [],
      "include_colab_link": true
    },
    "kernelspec": {
      "display_name": "Python 3.10.5 64-bit",
      "language": "python",
      "name": "python3"
    },
    "language_info": {
      "codemirror_mode": {
        "name": "ipython",
        "version": 3
      },
      "file_extension": ".py",
      "mimetype": "text/x-python",
      "name": "python",
      "nbconvert_exporter": "python",
      "pygments_lexer": "ipython3",
      "version": "3.10.5"
    },
    "vscode": {
      "interpreter": {
        "hash": "49fe8040677feb1ed31e987a4ef49564fc6fc8eaa5cbe2c5405e498ab1bfab17"
      }
    }
  },
  "nbformat": 4,
  "nbformat_minor": 0
}