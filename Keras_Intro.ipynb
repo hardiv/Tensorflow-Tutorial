{
  "cells": [
    {
      "cell_type": "markdown",
      "metadata": {
        "colab_type": "text",
        "id": "view-in-github"
      },
      "source": [
        "<a href=\"https://colab.research.google.com/github/hardiv/Tensorflow-Tutorial/blob/main/Keras_Intro.ipynb\" target=\"_parent\"><img src=\"https://colab.research.google.com/assets/colab-badge.svg\" alt=\"Open In Colab\"/></a>"
      ]
    },
    {
      "cell_type": "markdown",
      "metadata": {
        "id": "oCw-KIYZk-mF"
      },
      "source": [
        "# Keras Intro\n",
        "\n",
        "These notes will walk you through using Keras for Tensorflow 2"
      ]
    },
    {
      "cell_type": "markdown",
      "metadata": {
        "id": "ijtkpD7AlGRT"
      },
      "source": [
        "## What is Keras?\n",
        "\n",
        "Keras is a high-level, flexible API used in Tensorflow 2 for building, training and making inferences from Deep Learning Neural Network Models"
      ]
    },
    {
      "cell_type": "markdown",
      "metadata": {
        "id": "EGh0IgpplVwV"
      },
      "source": [
        "## Neural Networks - A Primer\n",
        "\n",
        "We're gonna have to talk about FFNs and CNNs"
      ]
    },
    {
      "cell_type": "markdown",
      "metadata": {},
      "source": [
        "## Building a Sequential Model\n",
        "\n",
        "We'll use the Keras Sequential class to build simple models. Most NNs that we work with can be built using this, and it's an easy way to construct Deep Learning Networks\n"
      ]
    },
    {
      "cell_type": "markdown",
      "metadata": {},
      "source": [
        "### Importing the classes"
      ]
    },
    {
      "cell_type": "code",
      "execution_count": null,
      "metadata": {},
      "outputs": [],
      "source": [
        "import tensorflow as tf\n",
        "from tf.keras.models import Sequential\n",
        "from tf.keras.layers import Dense"
      ]
    },
    {
      "cell_type": "markdown",
      "metadata": {},
      "source": [
        "### Defining the model"
      ]
    },
    {
      "cell_type": "code",
      "execution_count": null,
      "metadata": {},
      "outputs": [],
      "source": [
        "model = Sequential([\n",
        "    Dense(64, activation='relu'),\n",
        "    Dense(10, activation='softmax')\n",
        "])"
      ]
    }
  ],
  "metadata": {
    "colab": {
      "authorship_tag": "ABX9TyMkhHJ3ft+wuQmymaqHO1gf",
      "collapsed_sections": [],
      "include_colab_link": true,
      "name": "Keras_Intro.ipynb",
      "provenance": []
    },
    "kernelspec": {
      "display_name": "Python 3.10.5 64-bit",
      "language": "python",
      "name": "python3"
    },
    "language_info": {
      "name": "python",
      "version": "3.10.5"
    },
    "vscode": {
      "interpreter": {
        "hash": "49fe8040677feb1ed31e987a4ef49564fc6fc8eaa5cbe2c5405e498ab1bfab17"
      }
    }
  },
  "nbformat": 4,
  "nbformat_minor": 0
}
