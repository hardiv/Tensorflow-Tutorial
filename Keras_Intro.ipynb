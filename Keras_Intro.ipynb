{
  "nbformat": 4,
  "nbformat_minor": 0,
  "metadata": {
    "colab": {
      "name": "Keras_Intro.ipynb",
      "provenance": [],
      "collapsed_sections": [],
      "authorship_tag": "ABX9TyMkhHJ3ft+wuQmymaqHO1gf",
      "include_colab_link": true
    },
    "kernelspec": {
      "name": "python3",
      "display_name": "Python 3"
    },
    "language_info": {
      "name": "python"
    }
  },
  "cells": [
    {
      "cell_type": "markdown",
      "metadata": {
        "id": "view-in-github",
        "colab_type": "text"
      },
      "source": [
        "<a href=\"https://colab.research.google.com/github/hardiv/Tensorflow-Tutorial/blob/main/Keras_Intro.ipynb\" target=\"_parent\"><img src=\"https://colab.research.google.com/assets/colab-badge.svg\" alt=\"Open In Colab\"/></a>"
      ]
    },
    {
      "cell_type": "markdown",
      "source": [
        "# Keras Intro\n",
        "\n",
        "These notes will walk you through using Keras for Tensorflow 2"
      ],
      "metadata": {
        "id": "oCw-KIYZk-mF"
      }
    },
    {
      "cell_type": "markdown",
      "source": [
        "## What is Keras?\n",
        "\n",
        "Keras is a high-level, flexible API used in Tensorflow 2 for building, training and making inferences from Deep Learning Neural Network Models"
      ],
      "metadata": {
        "id": "ijtkpD7AlGRT"
      }
    },
    {
      "cell_type": "markdown",
      "source": [
        "## Neural Networks - A Primer\n",
        "\n",
        "We're gonna have to talk about FFNs and CNNs"
      ],
      "metadata": {
        "id": "EGh0IgpplVwV"
      }
    },
    {
      "cell_type": "code",
      "execution_count": null,
      "metadata": {
        "id": "Dz_Z_jTqdwvC"
      },
      "outputs": [],
      "source": [
        ""
      ]
    }
  ]
}